{
 "cells": [
  {
   "cell_type": "markdown",
   "metadata": {},
   "source": [
    "## Alunos: Ícaro Pires (15/0129815) e Vinicius Lima (15/0151331)"
   ]
  },
  {
   "cell_type": "markdown",
   "metadata": {},
   "source": [
    "# Lista 01 - Algoritmos de Busca - EDAII"
   ]
  },
  {
   "cell_type": "markdown",
   "metadata": {},
   "source": [
    "## Meet in the middle"
   ]
  },
  {
   "cell_type": "markdown",
   "metadata": {},
   "source": [
    "### Exemplo de aplicação prática: forças atuantes sobre um objeto\n",
    "\n",
    "Imagine que em um dado objeto haja um conjunto de forças atuando sobre este. Deseja-se descobrir quais forças (vetores) que quando somadas, geram uma força resultante máxima mas sem comprometer a estrutura do objeto.\n",
    "\n",
    "Supondo que seja conhecida a força máxima = MAXIMUM_VALUE e o conjunto de forças atuantes sobre o objeto = S, o problema poderia ser resolvido gerando as somas de todos os subconjuntos de S e selecionando o subconjunto que mais se aproxima de MAXIMUM_VALUE.\n",
    "\n",
    "Utilizando uma estratégia naive o resultado poderia ser encontrado para conjuntos pequenos de forças em tempo viável devido sua alta complexidade de tempo O(2^(n)).\n",
    "\n",
    "Para viabilizar o cálculo para conjuntos de forças um pouco maiores, podemos usar a técnica meet in the middle que utiliza da busca binária para reduzir em parte a complexidade do problema.\n",
    "\n",
    "A técnica consiste basicamente em:\n",
    "* Dividir o conjunto em 2 subconjuntos cada um com a metade dos elementos;\n",
    "* Gerar a soma dos possíveis subconjuntos dos dois subconjuntos gerados anteriormente e armazená-los em vetores;\n",
    "* Em seguida, ordena-se um dos vetores para viabilizar a busca binária;\n",
    "* Para cada elemento do vetor não ordenado, buscar o elemento do vetor ordenado que melhor atende o problema.\n",
    "\n",
    "Para a busca binária, utiliza-se especificamente o algoritimo de busca lower bound. O motivo para isso é o de que caso não se encontre exatamente o valor desejado, possa-se encontrar o mais próximo possível que não o exceda.\n",
    "\n",
    "### Implementação"
   ]
  },
  {
   "cell_type": "code",
   "execution_count": 1,
   "metadata": {},
   "outputs": [],
   "source": [
    "import numpy as np\n",
    "\n",
    "# Constantes\n",
    "MAXIMUM_VALUE = 32156  # Valor limite para a soma das forças sem compromoter o objeto\n",
    "SET_LOWER_BOUND, SET_UPPER_BOUND = int(-1e8), int(1e8)  # Números máximos e mínimos do conjunto de teste\n",
    "SET_SIZE = 36  # tamanho do conjunto de testes\n",
    "\n",
    "# Gerando conjunto base\n",
    "S = np.random.randint(low=SET_LOWER_BOUND, high=SET_UPPER_BOUND, size=SET_SIZE)"
   ]
  },
  {
   "cell_type": "code",
   "execution_count": 2,
   "metadata": {},
   "outputs": [],
   "source": [
    "# Separando subconjuntos\n",
    "mid = SET_SIZE//2\n",
    "subset_a, subset_b = S[:mid], S[mid:]"
   ]
  },
  {
   "cell_type": "code",
   "execution_count": 3,
   "metadata": {},
   "outputs": [],
   "source": [
    "from collections import namedtuple\n",
    "\n",
    "def generate_all_subsets_sums(s, *, is_first_half):\n",
    "    VectorPosition = namedtuple('VectorPosition', ['value', 'index'])\n",
    "    sub_set_size, subsets_sums = len(s), []\n",
    "\n",
    "    for i in range(1<<sub_set_size):\n",
    "        ssum, sub_set = 0, set()\n",
    "        for j in range(sub_set_size):\n",
    "            if i & (1<<j):\n",
    "                ssum += s[j]\n",
    "                if is_first_half:\n",
    "                    sub_set.add(VectorPosition(s[j], j))\n",
    "                else:\n",
    "                    sub_set.add(VectorPosition(s[j], SET_SIZE//2 + j))\n",
    "        subsets_sums += [(ssum, sub_set)]\n",
    "    return subsets_sums"
   ]
  },
  {
   "cell_type": "code",
   "execution_count": 4,
   "metadata": {},
   "outputs": [],
   "source": [
    "# Gerando possíveis somas de cada subconjunto\n",
    "subset_a_possible_sums = generate_all_subsets_sums(subset_a, is_first_half=True)\n",
    "subset_b_possible_sums = generate_all_subsets_sums(subset_b, is_first_half=False)"
   ]
  },
  {
   "cell_type": "code",
   "execution_count": 5,
   "metadata": {},
   "outputs": [],
   "source": [
    "def lower_bound(xs, element):\n",
    "    if element > xs[-1][0]:\n",
    "        return -1\n",
    "\n",
    "    def lower_bound_internal(l, r):  # Usa busca binária\n",
    "        mid = l + (r-l)//2\n",
    "        \n",
    "        if element == xs[mid][0] or l == r:\n",
    "            return mid\n",
    "        \n",
    "        if element > xs[mid][0]:\n",
    "            return lower_bound_internal(mid+1, r)\n",
    "        return lower_bound_internal(l, mid)\n",
    "\n",
    "    return lower_bound_internal(0, len(xs)-1)"
   ]
  },
  {
   "cell_type": "code",
   "execution_count": 6,
   "metadata": {},
   "outputs": [],
   "source": [
    "def find_value(subset_a, subset_b):\n",
    "    mmax = (SET_LOWER_BOUND - 1, set())\n",
    "    subset_a_possible_sums.sort()\n",
    "\n",
    "    for element, sset in subset_b:\n",
    "        if element == MAXIMUM_VALUE:\n",
    "            return (element, sset)\n",
    "        \n",
    "        if element < MAXIMUM_VALUE:\n",
    "            looked = MAXIMUM_VALUE - element\n",
    "            looked_idx = lower_bound(subset_a, looked)\n",
    "\n",
    "            if looked_idx != -1 and subset_a[looked_idx][0] <= looked:\n",
    "                subset_value, subset_set = subset_a[looked_idx]\n",
    "                mmax = max(mmax, (subset_value + element, subset_set))\n",
    "\n",
    "    return mmax"
   ]
  },
  {
   "cell_type": "code",
   "execution_count": 7,
   "metadata": {},
   "outputs": [
    {
     "name": "stdout",
     "output_type": "stream",
     "text": [
      "Valor mais próximo possível: 32156\n",
      "Vetor original: [\n",
      "\t(0, 26075349),\n",
      "\t(1, -51069202),\n",
      "\t(2, -93477838),\n",
      "\t(3, -2557455),\n",
      "\t(4, -18523952),\n",
      "\t(5, -62344640),\n",
      "\t(6, -16643973),\n",
      "\t(7, 5243471),\n",
      "\t(8, -38799230),\n",
      "\t(9, -8286166),\n",
      "\t(10, -51707725),\n",
      "\t(11, -26585093),\n",
      "\t(12, -47198476),\n",
      "\t(13, 62305900),\n",
      "\t(14, 90324998),\n",
      "\t(15, -78840746),\n",
      "\t(16, 70747759),\n",
      "\t(17, -19424769),\n",
      "\t(18, -92140340),\n",
      "\t(19, -77131025),\n",
      "\t(20, 34815810),\n",
      "\t(21, -11354310),\n",
      "\t(22, -68540328),\n",
      "\t(23, 87545538),\n",
      "\t(24, -71667735),\n",
      "\t(25, 48306360),\n",
      "\t(26, 75248885),\n",
      "\t(27, 15213568),\n",
      "\t(28, -64142569),\n",
      "\t(29, 48766918),\n",
      "\t(30, 79202780),\n",
      "\t(31, -37683520),\n",
      "\t(32, 29738368),\n",
      "\t(33, 54079580),\n",
      "\t(34, 28877669),\n",
      "\t(35, 44679858)\n",
      "]\n",
      "\n",
      "Elementos eleitos:\n",
      " \tValue =   26075349, Index =  0\n",
      "\tValue =  -18523952, Index =  4\n",
      "\tValue =   62305900, Index = 13\n",
      "\tValue =  -38799230, Index =  8\n",
      "\tValue =  -78840746, Index = 15\n",
      "\tValue =  -16643973, Index =  6\n",
      "\tValue =   -2557455, Index =  3\n",
      "\tValue =  -26585093, Index = 11\n",
      "\tValue =  -51707725, Index = 10\n",
      "\tValue =   70747759, Index = 16\n",
      "\tValue =   90324998, Index = 14\n"
     ]
    }
   ],
   "source": [
    "# Calculando resultado\n",
    "result_value, result_set = find_value(subset_a_possible_sums, subset_b_possible_sums)\n",
    "\n",
    "# Imprimindo resultados\n",
    "if result_value != SET_LOWER_BOUND - 1:\n",
    "    print(f'Valor mais próximo possível: {result_value}', end='\\n')\n",
    "    \n",
    "    print('Vetor original: [\\n\\t{}\\n]\\n'.format(',\\n\\t'.join(\n",
    "        map(str,list(enumerate(S)))))\n",
    "    )\n",
    "    \n",
    "    print('Elementos eleitos:\\n {}'.format('\\n'.join(\n",
    "        ['\\tValue = {:10d}, Index = {:2d}'.format(int(value), int(index)) \n",
    "         for value, index in result_set]\n",
    "    )))\n",
    "else:\n",
    "    print('Não foi encontrado nenhum valor próximo ao desejado e menor.')"
   ]
  },
  {
   "cell_type": "markdown",
   "metadata": {},
   "source": [
    "### Conclusões\n",
    "\n",
    "Com base no código acima, pode-se observar a técnica sendo aplicada num conjunto de 36 posições. Caso a técnica naive tivesse sido utilizada, seria necessário gerar 2^36 = 68.719.476.736 subconjuntos, enquanto que geramos apenas 2^18 * 2 = 524.288 subconjuntos, uma diferença notável. Além de ganhar desempenho através da busca binária."
   ]
  },
  {
   "cell_type": "markdown",
   "metadata": {},
   "source": [
    "### Referências\n",
    "\n",
    "Meet in the middle: https://www.geeksforgeeks.org/meet-in-the-middle/"
   ]
  }
 ],
 "metadata": {
  "kernelspec": {
   "display_name": "Python 3",
   "language": "python",
   "name": "python3"
  },
  "language_info": {
   "codemirror_mode": {
    "name": "ipython",
    "version": 3
   },
   "file_extension": ".py",
   "mimetype": "text/x-python",
   "name": "python",
   "nbconvert_exporter": "python",
   "pygments_lexer": "ipython3",
   "version": "3.7.0"
  }
 },
 "nbformat": 4,
 "nbformat_minor": 2
}
